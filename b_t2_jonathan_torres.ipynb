{
  "nbformat": 4,
  "nbformat_minor": 0,
  "metadata": {
    "colab": {
      "provenance": [],
      "authorship_tag": "ABX9TyOtaCYqE+5AEcuBpcq+53k4",
      "include_colab_link": true
    },
    "kernelspec": {
      "name": "python3",
      "display_name": "Python 3"
    },
    "language_info": {
      "name": "python"
    }
  },
  "cells": [
    {
      "cell_type": "markdown",
      "metadata": {
        "id": "view-in-github",
        "colab_type": "text"
      },
      "source": [
        "<a href=\"https://colab.research.google.com/github/whunterzcode/hola-mundo/blob/main/b_t2_jonathan_torres.ipynb\" target=\"_parent\"><img src=\"https://colab.research.google.com/assets/colab-badge.svg\" alt=\"Open In Colab\"/></a>"
      ]
    },
    {
      "cell_type": "code",
      "execution_count": 1,
      "metadata": {
        "colab": {
          "base_uri": "https://localhost:8080/"
        },
        "id": "LH4-rlzZfthg",
        "outputId": "a35dfe29-ef9f-4ef8-deb1-76c6981f6ad4"
      },
      "outputs": [
        {
          "output_type": "stream",
          "name": "stdout",
          "text": [
            "hello world\n"
          ]
        }
      ],
      "source": [
        "1#imprimir hola mundo\n",
        "print (\"hello world\")"
      ]
    },
    {
      "cell_type": "code",
      "source": [
        "#2suma de dos numeros ingresados por el usuario\n",
        "num1 = int(input(\"ingrese primer numero\"))\n",
        "num2 = int(input(\"ingrese segundo numero\"))\n",
        "suma = num1 + num2\n",
        "print(suma)"
      ],
      "metadata": {
        "colab": {
          "base_uri": "https://localhost:8080/"
        },
        "id": "hHdB60ZAglVC",
        "outputId": "a3cc954d-f732-4c52-bd99-3b8db7e17eb5"
      },
      "execution_count": 2,
      "outputs": [
        {
          "output_type": "stream",
          "name": "stdout",
          "text": [
            "ingrese primer numero2\n",
            "ingrese segundo numero2\n",
            "4\n"
          ]
        }
      ]
    },
    {
      "cell_type": "code",
      "source": [
        "#3determine si el numero ingresado por el usuario es par o impar\n",
        "nume = int(input(\"ingrese numero\"))\n",
        "if nume %2 == 0: # este if sirve para verificar si es par o impar\n",
        "  print(\"el numero ingresado es par \")\n",
        "else:\n",
        "  print(\"el numero ingresado es inpar\")\n"
      ],
      "metadata": {
        "colab": {
          "base_uri": "https://localhost:8080/"
        },
        "id": "rxB4nPjLhIqy",
        "outputId": "81d5af3b-c69f-4fb2-a950-8b1fb56ea544"
      },
      "execution_count": 5,
      "outputs": [
        {
          "output_type": "stream",
          "name": "stdout",
          "text": [
            "ingrese numero3\n",
            "el numero ingresado es inpar\n"
          ]
        }
      ]
    },
    {
      "cell_type": "code",
      "source": [
        "#4# calculadora basica realizar operaciones basicas  entre dos numeros ingresados por el usuario\n",
        "print(\"al ingresar los dos numeros te dara las 4 operaciones bacicas\")\n",
        "nume1 = int(input(\"ingrese primer numero\"))\n",
        "nume2 = int(input(\"ingrese segundo numero\"))\n",
        "print(f\"la suma de {nume1} + {nume2} es: {nume1 + nume2}\")\n",
        "print(f\"la resta de {nume1} - {nume2} es: {nume1 - nume2}\")\n",
        "print(f\"la suma de {nume1} * {nume2} es: {nume1 * nume2}\")\n",
        "print(f\"la suma de {nume1} / {nume2} es: {nume1 / nume2}\")\n"
      ],
      "metadata": {
        "colab": {
          "base_uri": "https://localhost:8080/"
        },
        "id": "L7XCnkhBhuSa",
        "outputId": "04399c23-56f2-4307-f828-f9fd219d0521"
      },
      "execution_count": 6,
      "outputs": [
        {
          "output_type": "stream",
          "name": "stdout",
          "text": [
            "ingrese primer numero4\n",
            "ingrese segundo numero2\n",
            "la suma de 4 + 2 es: 6\n",
            "la resta de 4 - 2 es: 2\n",
            "la suma de 4 * 2 es: 8\n",
            "la suma de 4 / 2 es: 2.0\n"
          ]
        }
      ]
    },
    {
      "cell_type": "code",
      "source": [
        "#5numero mayor  pedir 3 numeros al usuario y verificar cual es mayor\n",
        "n1 = int(input(\"ingrese primer numero\"))\n",
        "n2 = int(input(\"ingrese segundo numero\"))\n",
        "n3 = int(input(\"ingrese tercer numero\"))\n",
        "numeromayor = max(n1, n2, n3)\n",
        "print(\"el numero mayor es\", numeromayor)"
      ],
      "metadata": {
        "colab": {
          "base_uri": "https://localhost:8080/"
        },
        "id": "DmPpfN7DjCDB",
        "outputId": "10bf27fc-c64b-4c8f-b7bb-e37b68f3a17d"
      },
      "execution_count": 7,
      "outputs": [
        {
          "output_type": "stream",
          "name": "stdout",
          "text": [
            "ingrese primer numero3\n",
            "ingrese segundo numero6\n",
            "ingrese tercer numero9\n",
            "el numero mayor es 9\n"
          ]
        }
      ]
    },
    {
      "cell_type": "code",
      "source": [
        "#6calculo de el area del circulo\n",
        "import math\n",
        "radio = float(input(\"ingrese radio para calcular el area\"))\n",
        "area = math.pi * radio**2\n",
        "print(\"el area es\", area )\n",
        "\n"
      ],
      "metadata": {
        "colab": {
          "base_uri": "https://localhost:8080/"
        },
        "id": "OLTMSPpfknQE",
        "outputId": "10fa4cb5-041e-4d72-b167-62bba27d26fb"
      },
      "execution_count": 9,
      "outputs": [
        {
          "output_type": "stream",
          "name": "stdout",
          "text": [
            "ingrese radio para calcular el area4.5\n",
            "el area es 63.61725123519331\n"
          ]
        }
      ]
    },
    {
      "cell_type": "code",
      "source": [
        "#conversio de grados celsius a fahrenheit\n",
        "# Pedir al usuario la temperatura en grados Celsius\n",
        "celsius = float(input(\"Ingrese la temperatura en grados Celsius: \"))\n",
        "\n",
        "# Convertir Celsius a Fahrenheit usando la fórmula\n",
        "fahrenheit = (celsius * 9/5) + 32\n",
        "\n",
        "# Mostrar el resultado\n",
        "print(\"La temperatura en grados Fahrenheit es:\", fahrenheit)\n"
      ],
      "metadata": {
        "colab": {
          "base_uri": "https://localhost:8080/",
          "height": 356
        },
        "id": "Uao1cgyJlwTT",
        "outputId": "db34d76b-61e0-48a2-8c08-56115688b843"
      },
      "execution_count": 20,
      "outputs": [
        {
          "output_type": "error",
          "ename": "KeyboardInterrupt",
          "evalue": "Interrupted by user",
          "traceback": [
            "\u001b[0;31m---------------------------------------------------------------------------\u001b[0m",
            "\u001b[0;31mKeyboardInterrupt\u001b[0m                         Traceback (most recent call last)",
            "\u001b[0;32m<ipython-input-20-c396a2216908>\u001b[0m in \u001b[0;36m<cell line: 3>\u001b[0;34m()\u001b[0m\n\u001b[1;32m      1\u001b[0m \u001b[0;31m#conversio de grados celsius a fahrenheit\u001b[0m\u001b[0;34m\u001b[0m\u001b[0;34m\u001b[0m\u001b[0m\n\u001b[1;32m      2\u001b[0m \u001b[0;31m# Pedir al usuario la temperatura en grados Celsius\u001b[0m\u001b[0;34m\u001b[0m\u001b[0;34m\u001b[0m\u001b[0m\n\u001b[0;32m----> 3\u001b[0;31m \u001b[0mcelsius\u001b[0m \u001b[0;34m=\u001b[0m \u001b[0mfloat\u001b[0m\u001b[0;34m(\u001b[0m\u001b[0minput\u001b[0m\u001b[0;34m(\u001b[0m\u001b[0;34m\"Ingrese la temperatura en grados Celsius: \"\u001b[0m\u001b[0;34m)\u001b[0m\u001b[0;34m)\u001b[0m\u001b[0;34m\u001b[0m\u001b[0;34m\u001b[0m\u001b[0m\n\u001b[0m\u001b[1;32m      4\u001b[0m \u001b[0;34m\u001b[0m\u001b[0m\n\u001b[1;32m      5\u001b[0m \u001b[0;31m# Convertir Celsius a Fahrenheit usando la fórmula\u001b[0m\u001b[0;34m\u001b[0m\u001b[0;34m\u001b[0m\u001b[0m\n",
            "\u001b[0;32m/usr/local/lib/python3.10/dist-packages/ipykernel/kernelbase.py\u001b[0m in \u001b[0;36mraw_input\u001b[0;34m(self, prompt)\u001b[0m\n\u001b[1;32m    849\u001b[0m                 \u001b[0;34m\"raw_input was called, but this frontend does not support input requests.\"\u001b[0m\u001b[0;34m\u001b[0m\u001b[0;34m\u001b[0m\u001b[0m\n\u001b[1;32m    850\u001b[0m             )\n\u001b[0;32m--> 851\u001b[0;31m         return self._input_request(str(prompt),\n\u001b[0m\u001b[1;32m    852\u001b[0m             \u001b[0mself\u001b[0m\u001b[0;34m.\u001b[0m\u001b[0m_parent_ident\u001b[0m\u001b[0;34m,\u001b[0m\u001b[0;34m\u001b[0m\u001b[0;34m\u001b[0m\u001b[0m\n\u001b[1;32m    853\u001b[0m             \u001b[0mself\u001b[0m\u001b[0;34m.\u001b[0m\u001b[0m_parent_header\u001b[0m\u001b[0;34m,\u001b[0m\u001b[0;34m\u001b[0m\u001b[0;34m\u001b[0m\u001b[0m\n",
            "\u001b[0;32m/usr/local/lib/python3.10/dist-packages/ipykernel/kernelbase.py\u001b[0m in \u001b[0;36m_input_request\u001b[0;34m(self, prompt, ident, parent, password)\u001b[0m\n\u001b[1;32m    893\u001b[0m             \u001b[0;32mexcept\u001b[0m \u001b[0mKeyboardInterrupt\u001b[0m\u001b[0;34m:\u001b[0m\u001b[0;34m\u001b[0m\u001b[0;34m\u001b[0m\u001b[0m\n\u001b[1;32m    894\u001b[0m                 \u001b[0;31m# re-raise KeyboardInterrupt, to truncate traceback\u001b[0m\u001b[0;34m\u001b[0m\u001b[0;34m\u001b[0m\u001b[0m\n\u001b[0;32m--> 895\u001b[0;31m                 \u001b[0;32mraise\u001b[0m \u001b[0mKeyboardInterrupt\u001b[0m\u001b[0;34m(\u001b[0m\u001b[0;34m\"Interrupted by user\"\u001b[0m\u001b[0;34m)\u001b[0m \u001b[0;32mfrom\u001b[0m \u001b[0;32mNone\u001b[0m\u001b[0;34m\u001b[0m\u001b[0;34m\u001b[0m\u001b[0m\n\u001b[0m\u001b[1;32m    896\u001b[0m             \u001b[0;32mexcept\u001b[0m \u001b[0mException\u001b[0m \u001b[0;32mas\u001b[0m \u001b[0me\u001b[0m\u001b[0;34m:\u001b[0m\u001b[0;34m\u001b[0m\u001b[0;34m\u001b[0m\u001b[0m\n\u001b[1;32m    897\u001b[0m                 \u001b[0mself\u001b[0m\u001b[0;34m.\u001b[0m\u001b[0mlog\u001b[0m\u001b[0;34m.\u001b[0m\u001b[0mwarning\u001b[0m\u001b[0;34m(\u001b[0m\u001b[0;34m\"Invalid Message:\"\u001b[0m\u001b[0;34m,\u001b[0m \u001b[0mexc_info\u001b[0m\u001b[0;34m=\u001b[0m\u001b[0;32mTrue\u001b[0m\u001b[0;34m)\u001b[0m\u001b[0;34m\u001b[0m\u001b[0;34m\u001b[0m\u001b[0m\n",
            "\u001b[0;31mKeyboardInterrupt\u001b[0m: Interrupted by user"
          ]
        }
      ]
    },
    {
      "cell_type": "code",
      "source": [
        "#8cuenta los numeros hacia atras ejemp 10 a 0\n",
        "numero = int(input(\"ingrese numero\"))\n",
        "if numero <= 0:\n",
        "  listanumeros = []\n",
        "  for i in range(numero):\n",
        "        listanumeros, numero -1, -1\n",
        "\n",
        "print(listanumeros)\n",
        "\n",
        "\n",
        "\n"
      ],
      "metadata": {
        "colab": {
          "base_uri": "https://localhost:8080/"
        },
        "id": "tcg1Qlzrl6pD",
        "outputId": "e22cd016-3300-4485-e3c8-37a5c0f5532d"
      },
      "execution_count": 19,
      "outputs": [
        {
          "output_type": "stream",
          "name": "stdout",
          "text": [
            "ingrese numero9\n",
            "[8, 7, 6, 5, 4, 3, 2, 1, 0]\n"
          ]
        }
      ]
    },
    {
      "cell_type": "code",
      "source": [
        "#9tabla de multiplicar\n",
        "numero = int(input(\"ingrese la tabla del numero que desee\"))\n",
        "print(f\"tabla del: {numero}\")\n",
        "for i in range(1,11):\n",
        "  print (f\"{numero}x {i} = {numero * i }\")"
      ],
      "metadata": {
        "colab": {
          "base_uri": "https://localhost:8080/"
        },
        "id": "eC0vAftipyim",
        "outputId": "7c216ec4-754a-4eb4-ccd7-676146808993"
      },
      "execution_count": 26,
      "outputs": [
        {
          "output_type": "stream",
          "name": "stdout",
          "text": [
            "ingrese la tabla del numero que desee5\n",
            "tabla del: 5\n",
            "5x 1 = 5\n",
            "5x 2 = 10\n",
            "5x 3 = 15\n",
            "5x 4 = 20\n",
            "5x 5 = 25\n",
            "5x 6 = 30\n",
            "5x 7 = 35\n",
            "5x 8 = 40\n",
            "5x 9 = 45\n",
            "5x 10 = 50\n"
          ]
        }
      ]
    }
  ]
}