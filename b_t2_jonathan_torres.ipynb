{
  "nbformat": 4,
  "nbformat_minor": 0,
  "metadata": {
    "colab": {
      "provenance": [],
      "authorship_tag": "ABX9TyNSHuVzudpIMDdv6qgUp9+R",
      "include_colab_link": true
    },
    "kernelspec": {
      "name": "python3",
      "display_name": "Python 3"
    },
    "language_info": {
      "name": "python"
    }
  },
  "cells": [
    {
      "cell_type": "markdown",
      "metadata": {
        "id": "view-in-github",
        "colab_type": "text"
      },
      "source": [
        "<a href=\"https://colab.research.google.com/github/whunterzcode/hola-mundo/blob/main/b_t2_jonathan_torres.ipynb\" target=\"_parent\"><img src=\"https://colab.research.google.com/assets/colab-badge.svg\" alt=\"Open In Colab\"/></a>"
      ]
    },
    {
      "cell_type": "code",
      "execution_count": null,
      "metadata": {
        "colab": {
          "base_uri": "https://localhost:8080/"
        },
        "id": "LH4-rlzZfthg",
        "outputId": "a35dfe29-ef9f-4ef8-deb1-76c6981f6ad4"
      },
      "outputs": [
        {
          "output_type": "stream",
          "name": "stdout",
          "text": [
            "hello world\n"
          ]
        }
      ],
      "source": [
        "1#imprimir hola mundo\n",
        "print (\"hello world\")"
      ]
    },
    {
      "cell_type": "code",
      "source": [
        "#2suma de dos numeros ingresados por el usuario\n",
        "num1 = int(input(\"ingrese primer numero\")) # pide un dato en este caso un entero que almacenara la variable\n",
        "num2 = int(input(\"ingrese segundo numero\")) # pide un dato en este caso un entero que almacenara la variable\n",
        "suma = num1 + num2 # suma las dos variables que ahora se almacenan en otra variable\n",
        "print(suma) #imprime la variable  suma que almacena el resultado de la suma"
      ],
      "metadata": {
        "colab": {
          "base_uri": "https://localhost:8080/"
        },
        "id": "hHdB60ZAglVC",
        "outputId": "a3cc954d-f732-4c52-bd99-3b8db7e17eb5"
      },
      "execution_count": null,
      "outputs": [
        {
          "output_type": "stream",
          "name": "stdout",
          "text": [
            "ingrese primer numero2\n",
            "ingrese segundo numero2\n",
            "4\n"
          ]
        }
      ]
    },
    {
      "cell_type": "code",
      "source": [
        "#3determine si el numero ingresado por el usuario es par o impar\n",
        "\n",
        "nume = int(input(\"ingrese numero entero: \"))# pide que ingrese un entero al usuario\n",
        "if nume %2 != 0: # sirve para verificar si es par o impar si es == a 0 es par caso contrario impar\n",
        "    print(\"el numero ingresado es impar \")\n",
        "else:\n",
        "    print(\"el numero ingresado es par\")\n"
      ],
      "metadata": {
        "colab": {
          "base_uri": "https://localhost:8080/"
        },
        "id": "rxB4nPjLhIqy",
        "outputId": "778d4047-da2b-46a5-c2b7-814d9f1b7fb6"
      },
      "execution_count": 36,
      "outputs": [
        {
          "output_type": "stream",
          "name": "stdout",
          "text": [
            "ingrese numero entero: 100\n",
            "el numero ingresado es par\n"
          ]
        }
      ]
    },
    {
      "cell_type": "code",
      "source": [
        "#4# calculadora basica realizar operaciones basicas  entre dos numeros ingresados por el usuario\n",
        "print(\"al ingresar los dos numeros te dara las 4 operaciones bacicas\")\n",
        "nume1 = int(input(\"ingrese primer numero: \")) # pide que ingrese un entero al usuario\n",
        "nume2 = int(input(\"ingrese segundo numero: \"))# pide que ingrese un entero al usuario\n",
        "print(f\"la suma de {nume1} + {nume2} es: {nume1 + nume2}\") #esta linea imprime un mensaje con codigo en este caso una operacion de suma\n",
        "print(f\"la resta de {nume1} - {nume2} es: {nume1 - nume2}\")#esta linea imprime un mensaje con codigo en este caso una operacion de resta\n",
        "print(f\"la multiplicacipon entre {nume1} * {nume2} es: {nume1 * nume2}\")#esta linea imprime un mensaje con codigo en este caso una operacion de multiplicacion\n",
        "print(f\"la divion entre {nume1} / {nume2} es: {nume1 / nume2}\")#esta linea imprime un mensaje con codigo en este caso una operacion de division\n"
      ],
      "metadata": {
        "colab": {
          "base_uri": "https://localhost:8080/"
        },
        "id": "L7XCnkhBhuSa",
        "outputId": "9f096acb-706c-462b-a5be-7698742331ff"
      },
      "execution_count": 3,
      "outputs": [
        {
          "output_type": "stream",
          "name": "stdout",
          "text": [
            "al ingresar los dos numeros te dara las 4 operaciones bacicas\n",
            "ingrese primer numero: 7\n",
            "ingrese segundo numero: 3\n",
            "la suma de 7 + 3 es: 10\n",
            "la resta de 7 - 3 es: 4\n",
            "la multiplicacipon entre 7 * 3 es: 21\n",
            "la divion entre 7 / 3 es: 2.3333333333333335\n"
          ]
        }
      ]
    },
    {
      "cell_type": "code",
      "source": [
        "#5numero mayor  pedir 3 numeros al usuario y verificar cual es mayor\n",
        "n1 = int(input(\"ingrese primer numero\")) #pide ingresar un entero al usuario\n",
        "n2 = int(input(\"ingrese segundo numero\"))#pide ingresar segundo entero al usuario\n",
        "n3 = int(input(\"ingrese tercer numero\")) #pide ingresar tercer entero al usuario\n",
        "numeromayor = max(n1, n2, n3) # dentro de la variable numero mayor  utilice max para encontrar el valor maximo entre las variables n1, n2,n3\n",
        "print(\"el numero mayor es\", numeromayor) #imprime el contenido de la variable numero mayor"
      ],
      "metadata": {
        "colab": {
          "base_uri": "https://localhost:8080/"
        },
        "id": "DmPpfN7DjCDB",
        "outputId": "10bf27fc-c64b-4c8f-b7bb-e37b68f3a17d"
      },
      "execution_count": null,
      "outputs": [
        {
          "output_type": "stream",
          "name": "stdout",
          "text": [
            "ingrese primer numero3\n",
            "ingrese segundo numero6\n",
            "ingrese tercer numero9\n",
            "el numero mayor es 9\n"
          ]
        }
      ]
    },
    {
      "cell_type": "code",
      "source": [
        "#6calculo de el area del circulo\n",
        "import math #aqui estoy cargando un modulo de una biblioteca de python en este caso funciones matematicas porque necesito saber el valor de pi\n",
        "radio = float(input(\"ingrese radio para calcular el area\")) #pido al usuario que ingrese el radio y utilizo float para que radio almacene un valor flotante\n",
        "area = math.pi * radio**2 # dentro de area multiplico el valor de pi por el valor de radio con exponencial 2\n",
        "print(\"el area es\", area ) # imprimo el valor dentro de area\n",
        "\n"
      ],
      "metadata": {
        "colab": {
          "base_uri": "https://localhost:8080/"
        },
        "id": "OLTMSPpfknQE",
        "outputId": "10fa4cb5-041e-4d72-b167-62bba27d26fb"
      },
      "execution_count": null,
      "outputs": [
        {
          "output_type": "stream",
          "name": "stdout",
          "text": [
            "ingrese radio para calcular el area4.5\n",
            "el area es 63.61725123519331\n"
          ]
        }
      ]
    },
    {
      "cell_type": "code",
      "source": [
        "#7convertir de grados celsius a fahrenheit\n",
        "celsius = float(input(\"Ingrese la temperatura en grados Celsius: \")) # Pedir al usuario la temperatura en grados Celsius\n",
        "fahrenheit = (celsius * 9/5) + 32 # Convertir Celsius a Fahrenheit usando la fórmula\n",
        "print(\"La temperatura en grados Fahrenheit es:\", fahrenheit) # imprimo el valor dentro de fahrenheit\n"
      ],
      "metadata": {
        "colab": {
          "base_uri": "https://localhost:8080/"
        },
        "id": "Uao1cgyJlwTT",
        "outputId": "1e340435-f450-4c50-85f7-c4eb1918e2fa"
      },
      "execution_count": null,
      "outputs": [
        {
          "output_type": "stream",
          "name": "stdout",
          "text": [
            "Ingrese la temperatura en grados Celsius: 6\n",
            "La temperatura en grados Fahrenheit es: 42.8\n"
          ]
        }
      ]
    },
    {
      "cell_type": "code",
      "source": [
        "#8Cuenta atras\n",
        "lista_numeros = [] # genero una variable que contendra una lista\n",
        "numero = int(input(\"ingrese in numero entero positivo\"))# pido al usuario que ingrese un entero positivo\n",
        "while numero > 0: ####  con el bucle while estoy definiendo hasta que rango debe realizar la iteracion\n",
        "        numero = numero - 1 # estoy diceindo que numero es = a numero -1 lo que ira restando un valor al numero ingresado hasta llegar a 0\n",
        "        lista_numeros.append(numero) # agrego numero a lista_numeros con append\n",
        "print (lista_numeros) # muestro el contenido de lista_numeros\n",
        "\n",
        "\n",
        "\n"
      ],
      "metadata": {
        "colab": {
          "base_uri": "https://localhost:8080/"
        },
        "id": "tcg1Qlzrl6pD",
        "outputId": "70f5585f-3bf2-4588-80b5-9fdefcaa9ec3"
      },
      "execution_count": 37,
      "outputs": [
        {
          "output_type": "stream",
          "name": "stdout",
          "text": [
            "ingrese in numero entero positivo10\n",
            "[9, 8, 7, 6, 5, 4, 3, 2, 1, 0]\n"
          ]
        }
      ]
    },
    {
      "cell_type": "code",
      "source": [
        "#9tabla de multiplicar\n",
        "numero = int(input(\"ingrese la tabla del numero que desee\")) #pido ingresar el numero de la tabla que el usuario requiera\n",
        "print(f\"tabla del: {numero}\") # imprimo un mensaje que informa que tabla se va a desplegar mas adelante\n",
        "for i in range(1,11): # defino el rango de hasta que numero multiplicar\n",
        "  print (f\"{numero}x {i} = {numero * i }\") # imprimo un mensaje con codigo entre numero ingresado x i que realiza cada iteracion hasta completar el rango  y luego finaliza y muestra la tabla"
      ],
      "metadata": {
        "colab": {
          "base_uri": "https://localhost:8080/"
        },
        "id": "eC0vAftipyim",
        "outputId": "7c216ec4-754a-4eb4-ccd7-676146808993"
      },
      "execution_count": null,
      "outputs": [
        {
          "output_type": "stream",
          "name": "stdout",
          "text": [
            "ingrese la tabla del numero que desee5\n",
            "tabla del: 5\n",
            "5x 1 = 5\n",
            "5x 2 = 10\n",
            "5x 3 = 15\n",
            "5x 4 = 20\n",
            "5x 5 = 25\n",
            "5x 6 = 30\n",
            "5x 7 = 35\n",
            "5x 8 = 40\n",
            "5x 9 = 45\n",
            "5x 10 = 50\n"
          ]
        }
      ]
    },
    {
      "cell_type": "code",
      "source": [
        "#10 determinar si un numero ingresaso por el usuario es primo\n",
        "'''\n",
        "este ejercicio fue el mas complejo para mi\n",
        "'''\n",
        "\n",
        "def es_primo(numero):  #Verifica si el número es menor o igual a 1\n",
        "    if numero <= 1:     # Si es menor o igual a 1, no es primo, devuelve False\n",
        "        return False\n",
        "    for i in range(2, int(numero**0.5) + 1):  # Itera sobre los números desde 2 hasta la raíz cuadrada del número más 1\n",
        "        if numero % i == 0:          # Verifica si el número es divisible por i\n",
        "            return False               # Si es divisible por algún número, no es primo, devuelve False\n",
        "    return True                            # Si no se encontró ningún divisor, el número es primo, devuelve True\n",
        "\n",
        "numero = int(input(\"Ingresa un número entero positivo mayor que 1: \")) # Solicita al usuario que ingrese un número entero positivo mayor que 1\n",
        "\n",
        "if es_primo(numero):                                  # Llama a la función es_primo() para verificar si el número es primo o no\n",
        "    print(numero, \"es un número primo.\")        # Imprime un mensaje si el número es primo\n",
        "else:\n",
        "    print(numero, \"no es un número primo.\")      # Imprime un mensaje si el número no es primo"
      ],
      "metadata": {
        "id": "t8yhLUIYtK8C",
        "colab": {
          "base_uri": "https://localhost:8080/"
        },
        "outputId": "942ea47d-654a-42f8-bf74-a1b7b45cf919"
      },
      "execution_count": 56,
      "outputs": [
        {
          "output_type": "stream",
          "name": "stdout",
          "text": [
            "Ingresa un número entero positivo mayor que 1: 9\n",
            "9 no es un número primo.\n"
          ]
        }
      ]
    },
    {
      "cell_type": "code",
      "source": [
        "#11sumar los numeros hasta un limite\n",
        "limite = int(input(\"ingrese nuemero limite\")) #pido al usuario el numero limite hasta el cual hay que sumar\n",
        "suma_numeros = 0 ## defino una variable  en cero\n",
        "for i in range (limite): #defino el rango de limimte que es el valor hasta el cual debe iterar\n",
        "    suma_numeros += i #asigno += i a la variable suma_numeros para que cada ves que realice la iteracion se guarde en suma_numeros\n",
        "    print (suma_numeros) # imprimo el resultado"
      ],
      "metadata": {
        "colab": {
          "base_uri": "https://localhost:8080/"
        },
        "id": "K7oBHMBWsgOD",
        "outputId": "bbfc9261-bfaa-4fd7-e315-4107ee62957f"
      },
      "execution_count": 15,
      "outputs": [
        {
          "output_type": "stream",
          "name": "stdout",
          "text": [
            "ingrese nuemero limite6\n",
            "0\n",
            "1\n",
            "3\n",
            "6\n",
            "10\n",
            "15\n"
          ]
        }
      ]
    },
    {
      "cell_type": "code",
      "source": [
        "#12invertir una cadenena\n",
        "texto = input(\"ingrese un texto: \")# pedir un texto al usuario\n",
        "invertido = texto [::-1] # defino una variable e invierto el texto\n",
        "print (invertido) #imprimo el texto ya invertido que esta dentro de la variable invertido\n"
      ],
      "metadata": {
        "colab": {
          "base_uri": "https://localhost:8080/"
        },
        "id": "0FE7Ry9XwsUL",
        "outputId": "20a67b42-64d5-415a-dfe2-79f7c1a7c57b"
      },
      "execution_count": 14,
      "outputs": [
        {
          "output_type": "stream",
          "name": "stdout",
          "text": [
            "ingrese un texto: roman\n",
            "namor\n"
          ]
        }
      ]
    },
    {
      "cell_type": "code",
      "source": [
        "#13 contar las vocales de una cadena introducida por el usuario\n",
        "texto = input(\" ingrese un texto \")  #ingrese un texto\n",
        "vocales = \"aeiouAEIOU\"               #defino una variable con las vocales en minusula y en mayuscula\n",
        "contador_vocales = 0                 #defino otra variable en 0\n",
        "for i in texto:                      #digo que itere en el rango dado que es (texto)\n",
        "  if i in vocales:                   # si i se encuantra en vocales\n",
        "    contador_vocales = contador_vocales + 1 #agregar = 1 a la variable j para que continue con los demas caracteres\n",
        "print (f\"el tecto tiene {j} vocales \")#imprimir el nuemero de vocales contadas"
      ],
      "metadata": {
        "colab": {
          "base_uri": "https://localhost:8080/"
        },
        "id": "PrbUmSlU3-lh",
        "outputId": "a352e83a-59b1-4c32-ca99-d3cba0861ff5"
      },
      "execution_count": 54,
      "outputs": [
        {
          "output_type": "stream",
          "name": "stdout",
          "text": [
            " ingrese un texto hola mundo\n",
            "el tecto tiene 4 vocales \n"
          ]
        }
      ]
    },
    {
      "cell_type": "code",
      "source": [
        "##14 verificar si una cadena ingresada por el usuario es palindromo\n",
        "palabra = input(\"ingrese una palabra \") #ingrese una palabra el usuario\n",
        "if palabra == palabra [::-1]: #digo si palabra es = a palabra alreves\n",
        "    print (f\"la palabra: {palabra} si es palindromo\")#si la condicion se cumple es palindromo\n",
        "else:                                                #si no\n",
        "    print(f\"la palabra: {palabra} no es palindromo\") # no es palindromo"
      ],
      "metadata": {
        "colab": {
          "base_uri": "https://localhost:8080/"
        },
        "id": "9vQ1FKYPBkaV",
        "outputId": "361afc40-466a-45b5-a9f8-6914c258e9d8"
      },
      "execution_count": 25,
      "outputs": [
        {
          "output_type": "stream",
          "name": "stdout",
          "text": [
            "ingrese una palabra salas\n",
            "la palabra: salas si es palindromo\n"
          ]
        }
      ]
    },
    {
      "cell_type": "code",
      "source": [
        "##15factorial de un numero\n",
        "import math  #importe una libreria\n",
        "numero = int(input(\"ingrese un nuemero\")) #pido al usuario el numero\n",
        "factorial = math.factorial(numero) #calculo el factorial del numero ingresado\n",
        "print(\"el factorial es: \", factorial)#imprimo el factorial\n"
      ],
      "metadata": {
        "colab": {
          "base_uri": "https://localhost:8080/"
        },
        "id": "80-R5R34E43n",
        "outputId": "659e0c95-1037-444f-adb3-063b18333120"
      },
      "execution_count": 43,
      "outputs": [
        {
          "output_type": "stream",
          "name": "stdout",
          "text": [
            "ingrese un nuemero6\n",
            "el factorial es:  720\n"
          ]
        }
      ]
    },
    {
      "cell_type": "code",
      "source": [
        "##16generar 5 numeros aleatorios entre 1 y 100\n",
        "import random #mporte una libreria que realiza la funcion de arrojar valores aleatorios\n",
        "lista_numeros = [] #creo una variable que almacenara los numeros mas adelante\n",
        "for i in range (5): #establesco el rango de numeros aleatorios\n",
        "    lista_numeros.append(random.randint(1,100)) #abro lista_numeros y con la funcion random.randint estoy generando un numero entero entre 1 y 100 que se repetira 5 veces\n",
        "print(lista_numeros) #imprimo la lista de numeros aleatorios"
      ],
      "metadata": {
        "colab": {
          "base_uri": "https://localhost:8080/"
        },
        "id": "9gRlu0ZBK8wv",
        "outputId": "65842f0c-59da-4198-fc26-f78ea7621b28"
      },
      "execution_count": 45,
      "outputs": [
        {
          "output_type": "stream",
          "name": "stdout",
          "text": [
            "[28, 34, 73, 51, 48]\n"
          ]
        }
      ]
    },
    {
      "cell_type": "code",
      "source": [
        "#17Calcular (LMC) masa corporal\n",
        "print(\"vamos a calcular su masa corporal\") #mensaje\n",
        "peso = int(input(\"ingrese su peso en kg\")) #ingrese el usuario su peso\n",
        "estatura = float(input(\"ingrese su estatura en metros\"))#ingrese el usuario su estatura\n",
        "masa_corporal = peso / estatura**2 #division de peso y estatura\n",
        "print(\"su masa corporal es:\", masa_corporal) #imprimir masa_corporal\n"
      ],
      "metadata": {
        "colab": {
          "base_uri": "https://localhost:8080/"
        },
        "id": "BGAEeCSRK9IO",
        "outputId": "43f9b8ef-ae19-4458-b8d9-5975426774b5"
      },
      "execution_count": 52,
      "outputs": [
        {
          "output_type": "stream",
          "name": "stdout",
          "text": [
            "vamos a calcular su masa corporal\n",
            "ingrese su peso en kg73\n",
            "ingrese su estatura en metros1.69\n",
            "su masa corporal es: 25.55932915514163\n"
          ]
        }
      ]
    }
  ]
}